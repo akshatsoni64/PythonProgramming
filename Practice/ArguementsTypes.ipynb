{
 "cells": [
  {
   "cell_type": "code",
   "execution_count": 12,
   "metadata": {
    "collapsed": true,
    "pycharm": {
     "is_executing": false
    }
   },
   "outputs": [
    {
     "name": "stdout",
     "text": [
      "Name Akshat Message  Hello\n"
     ],
     "output_type": "stream"
    }
   ],
   "source": [
    "# keyword arguement\n",
    "def func(name, message):\n",
    "    print(\"Name\", name, \"Message \", message)\n",
    "    \n",
    "func(message = \"Hello\", name = \"Akshat\")\n",
    "# without keyword there will be a syntax error"
   ]
  },
  {
   "cell_type": "code",
   "execution_count": 20,
   "outputs": [
    {
     "name": "stdout",
     "text": [
      "Sup Monster !\n",
      "Wassup Monster !\n"
     ],
     "output_type": "stream"
    }
   ],
   "source": [
    "# default arguement\n",
    "\n",
    "def func(name, message = \"Sup\"):\n",
    "    print(message, name, '!')\n",
    "\n",
    "func(\"Monster\")\n",
    "func(\"Monster\", \"Wassup\")"
   ],
   "metadata": {
    "collapsed": false,
    "pycharm": {
     "name": "#%%\n",
     "is_executing": false
    }
   }
  },
  {
   "cell_type": "code",
   "execution_count": 21,
   "outputs": [
    {
     "name": "stdout",
     "text": [
      "1 2 3 4\n"
     ],
     "output_type": "stream"
    }
   ],
   "source": [
    "# Variable Length Arguement \n",
    "\n",
    "def func(*varvallist):\n",
    "    for v in varvallist:\n",
    "        print(v)\n",
    "    \n",
    "print(1,2,3,4)"
   ],
   "metadata": {
    "collapsed": false,
    "pycharm": {
     "name": "#%%\n",
     "is_executing": false
    }
   }
  },
  {
   "cell_type": "code",
   "execution_count": 23,
   "outputs": [
    {
     "name": "stdout",
     "text": [
      "1\n",
      "2\n",
      "3\n"
     ],
     "output_type": "stream"
    }
   ],
   "source": [
    "# List as a Arguement\n",
    "\n",
    "def func(arg):\n",
    "    for i in arg:\n",
    "        print(i)\n",
    "\n",
    "func([\"1\", \"2\", \"3\"])"
   ],
   "metadata": {
    "collapsed": false,
    "pycharm": {
     "name": "#%%\n",
     "is_executing": false
    }
   }
  },
  {
   "cell_type": "code",
   "execution_count": 25,
   "outputs": [
    {
     "name": "stdout",
     "text": [
      "Square of 9 is:  81\n"
     ],
     "output_type": "stream"
    }
   ],
   "source": [
    "# Return Statement\n",
    "\n",
    "def square(no):\n",
    "    return no*no\n",
    "\n",
    "print(\"Square of 9 is: \", s`\\\n",
    "    quare(9))\n"
   ],
   "metadata": {
    "collapsed": false,
    "pycharm": {
     "name": "#%%\n",
     "is_executing": false
    }
   }
  }
 ],
 "metadata": {
  "kernelspec": {
   "display_name": "Python 3",
   "language": "python",
   "name": "python3"
  },
  "language_info": {
   "codemirror_mode": {
    "name": "ipython",
    "version": 2
   },
   "file_extension": ".py",
   "mimetype": "text/x-python",
   "name": "python",
   "nbconvert_exporter": "python",
   "pygments_lexer": "ipython2",
   "version": "2.7.6"
  },
  "pycharm": {
   "stem_cell": {
    "cell_type": "raw",
    "source": [],
    "metadata": {
     "collapsed": false
    }
   }
  }
 },
 "nbformat": 4,
 "nbformat_minor": 0
}
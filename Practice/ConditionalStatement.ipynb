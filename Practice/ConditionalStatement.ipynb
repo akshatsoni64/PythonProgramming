{
 "cells": [
  {
   "cell_type": "code",
   "execution_count": null,
   "metadata": {
    "collapsed": true
   },
   "outputs": [],
   "source": [
    "# if\n",
    "\n",
    "i = int(input(\"Enter Number: \"))\n",
    "\n",
    "if i < 5:\n",
    "    print(\"less than 5\")\n"
   ]
  },
  {
   "cell_type": "code",
   "execution_count": null,
   "outputs": [],
   "source": [
    "# if...else\n",
    "\n",
    "if i % 2 == 0:\n",
    "    print(\"Even\")\n",
    "else:\n",
    "    print(\"Odd\")"
   ],
   "metadata": {
    "collapsed": false,
    "pycharm": {
     "name": "#%%\n"
    }
   }
  },
  {
   "cell_type": "code",
   "execution_count": null,
   "outputs": [],
   "source": [
    "\n",
    "# if...elif...else\n",
    "\n",
    "a, b, c = input(\"Enter Three Numbers: \").split(' ')\n",
    "a = int(a)\n",
    "b = int(b)\n",
    "c = int(c)\n",
    "\n",
    "if a > b and a > c:\n",
    "    print(\"A\")\n",
    "elif a < b and b > c:\n",
    "    print(\"B\")\n",
    "else:\n",
    "    print(\"C\")\n",
    "\n",
    "# nested if\n",
    "\n",
    "if a > b:\n",
    "    if a > c:\n",
    "        print(\"A\")\n",
    "elif a < b:\n",
    "    if b > c:\n",
    "        print(\"B\")\n",
    "else:\n",
    "    print(\"C\")"
   ],
   "metadata": {
    "collapsed": false,
    "pycharm": {
     "name": "#%%\n"
    }
   }
  }
 ],
 "metadata": {
  "kernelspec": {
   "display_name": "Python 3",
   "language": "python",
   "name": "python3"
  },
  "language_info": {
   "codemirror_mode": {
    "name": "ipython",
    "version": 2
   },
   "file_extension": ".py",
   "mimetype": "text/x-python",
   "name": "python",
   "nbconvert_exporter": "python",
   "pygments_lexer": "ipython2",
   "version": "2.7.6"
  },
  "pycharm": {
   "stem_cell": {
    "cell_type": "raw",
    "source": [],
    "metadata": {
     "collapsed": false
    }
   }
  }
 },
 "nbformat": 4,
 "nbformat_minor": 0
}
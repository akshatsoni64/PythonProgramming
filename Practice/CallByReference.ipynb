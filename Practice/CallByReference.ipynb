{
 "cells": [
  {
   "cell_type": "code",
   "execution_count": 6,
   "metadata": {
    "collapsed": true,
    "pycharm": {
     "is_executing": false
    }
   },
   "outputs": [
    {
     "name": "stdout",
     "text": [
      "Inside Function:  [10, 20, 30, 40, 20, 30]\n",
      "Outside Function:  [10, 20, 30, 40, 20, 30]\n"
     ],
     "output_type": "stream"
    }
   ],
   "source": [
    "def change_list(list1):\n",
    "    list1.append(20)\n",
    "    list1.append(30)\n",
    "    print(\"Inside Function: \", list1)\n",
    "    \n",
    "list1 = [10,20,30,40]\n",
    "\n",
    "change_list(list1)\n",
    "print(\"Outside Function: \", list1)"
   ]
  },
  {
   "cell_type": "code",
   "execution_count": 7,
   "outputs": [
    {
     "name": "stdout",
     "text": [
      "Inside Function:  HelloHow are you\n",
      "Outside Function:  Hello\n"
     ],
     "output_type": "stream"
    }
   ],
   "source": [
    "def change_str(str):\n",
    "    str = str + \"How are you\"\n",
    "    print(\"Inside Function: \", str)\n",
    "    \n",
    "str = \"Hello\"\n",
    "\n",
    "change_str(str)\n",
    "print(\"Outside Function: \", str)"
   ],
   "metadata": {
    "collapsed": false,
    "pycharm": {
     "name": "#%%\n",
     "is_executing": false
    }
   }
  }
 ],
 "metadata": {
  "kernelspec": {
   "display_name": "Python 3",
   "language": "python",
   "name": "python3"
  },
  "language_info": {
   "codemirror_mode": {
    "name": "ipython",
    "version": 2
   },
   "file_extension": ".py",
   "mimetype": "text/x-python",
   "name": "python",
   "nbconvert_exporter": "python",
   "pygments_lexer": "ipython2",
   "version": "2.7.6"
  },
  "pycharm": {
   "stem_cell": {
    "cell_type": "raw",
    "source": [],
    "metadata": {
     "collapsed": false
    }
   }
  }
 },
 "nbformat": 4,
 "nbformat_minor": 0
}
{
 "cells": [
  {
   "cell_type": "code",
   "execution_count": 1,
   "metadata": {
    "collapsed": true,
    "pycharm": {
     "is_executing": false
    }
   },
   "outputs": [
    {
     "name": "stdout",
     "text": [
      "55\n"
     ],
     "output_type": "stream"
    }
   ],
   "source": [
    "# while\n",
    "n = int(input(\"Enter Number: \"))\n",
    "sum = 0\n",
    "while n > 0:\n",
    "    sum += n\n",
    "    n -= 1\n",
    "\n",
    "print(sum)    "
   ]
  },
  {
   "cell_type": "code",
   "execution_count": 2,
   "outputs": [
    {
     "name": "stdout",
     "text": [
      "Inside Loop\n",
      "Inside Loop\n",
      "Inside Loop\n",
      "Outside Loop\n"
     ],
     "output_type": "stream"
    }
   ],
   "source": [
    "counter = 0\n",
    "while counter < 3:\n",
    "    print(\"Inside Loop\")\n",
    "    counter += 1\n",
    "else:\n",
    "    print(\"Outside Loop\")"
   ],
   "metadata": {
    "collapsed": false,
    "pycharm": {
     "name": "#%%\n",
     "is_executing": false
    }
   }
  },
  {
   "cell_type": "code",
   "execution_count": 1,
   "outputs": [
    {
     "name": "stdout",
     "text": [
      "2\n",
      "3\n",
      "4\n",
      "5\n",
      "6\n"
     ],
     "output_type": "stream"
    }
   ],
   "source": [
    "for a in range(2,7):\n",
    "    print(a)"
   ],
   "metadata": {
    "collapsed": false,
    "pycharm": {
     "name": "#%%\n",
     "is_executing": false
    }
   }
  },
  {
   "cell_type": "code",
   "execution_count": 2,
   "outputs": [
    {
     "name": "stdout",
     "text": [
      "0\n",
      "1\n",
      "2\n",
      "3\n",
      "4\n"
     ],
     "output_type": "stream"
    }
   ],
   "source": [
    "for a in range(5):\n",
    "    print(a)"
   ],
   "metadata": {
    "collapsed": false,
    "pycharm": {
     "name": "#%%\n",
     "is_executing": false
    }
   }
  },
  {
   "cell_type": "code",
   "execution_count": 8,
   "outputs": [
    {
     "name": "stdout",
     "text": [
      "0\n",
      "2\n",
      "4\n",
      "6\n",
      "8\n"
     ],
     "output_type": "stream"
    }
   ],
   "source": [
    "for a in range(0,10,2):\n",
    "    print(a)\n",
    "    "
   ],
   "metadata": {
    "collapsed": false,
    "pycharm": {
     "name": "#%%\n",
     "is_executing": false
    }
   }
  },
  {
   "cell_type": "code",
   "execution_count": 10,
   "outputs": [
    {
     "name": "stdout",
     "text": [
      "Odd Numbers:  4\n",
      "Even Numbers:  5\n"
     ],
     "output_type": "stream"
    }
   ],
   "source": [
    "tuple = (1, 2, 3, 4, 5, 6, 7, 8, 9)\n",
    "count_odd = 0\n",
    "count_even = 0\n",
    "\n",
    "for x in tuple:\n",
    "    if x % 2:\n",
    "        count_even += 1\n",
    "    else:\n",
    "        count_odd += 1\n",
    "        \n",
    "print(\"Odd Numbers: \", count_odd)\n",
    "print(\"Even Numbers: \", count_even)"
   ],
   "metadata": {
    "collapsed": false,
    "pycharm": {
     "name": "#%%\n",
     "is_executing": false
    }
   }
  },
  {
   "cell_type": "code",
   "execution_count": 15,
   "outputs": [
    {
     "name": "stdout",
     "text": [
      "1 - Type:  <class 'int'>\n",
      "1.5 - Type:  <class 'float'>\n",
      "string - Type:  <class 'str'>\n",
      "(1+5j) - Type:  <class 'complex'>\n",
      "True - Type:  <class 'bool'>\n",
      "(0, 1) - Type:  <class 'tuple'>\n",
      "[2, 3] - Type:  <class 'list'>\n",
      "{4: 5} - Type:  <class 'dict'>\n"
     ],
     "output_type": "stream"
    }
   ],
   "source": [
    "list = [1, 1.5, \"string\", 1+5j, True, (0,1), [2, 3], {4: 5}]\n",
    "\n",
    "for x in list:\n",
    "    print(x, \"- Type: \", type(x))"
   ],
   "metadata": {
    "collapsed": false,
    "pycharm": {
     "name": "#%%\n",
     "is_executing": false
    }
   }
  },
  {
   "cell_type": "code",
   "execution_count": 22,
   "outputs": [
    {
     "name": "stdout",
     "text": [
      "c1 : Red\n",
      "c2 : Blue\n",
      "c3 : Green\n"
     ],
     "output_type": "stream"
    }
   ],
   "source": [
    "color = {\"c1\": \"Red\", \"c2\": \"Blue\", \"c3\": \"Green\"}\n",
    "\n",
    "for key, value in color.items():\n",
    "    print(key, \":\", value)"
   ],
   "metadata": {
    "collapsed": false,
    "pycharm": {
     "name": "#%%\n",
     "is_executing": false
    }
   }
  },
  {
   "cell_type": "code",
   "execution_count": null,
   "outputs": [],
   "source": [],
   "metadata": {
    "collapsed": false,
    "pycharm": {
     "name": "#%%\n"
    }
   }
  }
 ],
 "metadata": {
  "kernelspec": {
   "display_name": "Python 3",
   "language": "python",
   "name": "python3"
  },
  "language_info": {
   "codemirror_mode": {
    "name": "ipython",
    "version": 2
   },
   "file_extension": ".py",
   "mimetype": "text/x-python",
   "name": "python",
   "nbconvert_exporter": "python",
   "pygments_lexer": "ipython2",
   "version": "2.7.6"
  },
  "pycharm": {
   "stem_cell": {
    "cell_type": "raw",
    "source": [],
    "metadata": {
     "collapsed": false
    }
   }
  }
 },
 "nbformat": 4,
 "nbformat_minor": 0
}